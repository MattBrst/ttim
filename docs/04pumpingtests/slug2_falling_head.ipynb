{
 "cells": [
  {
   "cell_type": "markdown",
   "metadata": {
    "editable": true,
    "slideshow": {
     "slide_type": ""
    },
    "tags": []
   },
   "source": [
    "# 2. Slug Test - Falling Head\n",
    "**This test is taken from examples of AQTESOLV.**"
   ]
  },
  {
   "cell_type": "markdown",
   "metadata": {},
   "source": [
    "## Step 1. Import required libraries"
   ]
  },
  {
   "cell_type": "code",
   "execution_count": 1,
   "metadata": {
    "editable": true,
    "slideshow": {
     "slide_type": ""
    },
    "tags": []
   },
   "outputs": [],
   "source": [
    "import numpy as np\n",
    "import matplotlib.pyplot as plt\n",
    "plt.rcParams['figure.figsize'] = [5, 3]\n",
    "import pandas as pd\n",
    "from ttim import *"
   ]
  },
  {
   "cell_type": "markdown",
   "metadata": {},
   "source": [
    "## Introduction and Conceptual Model\n",
    "\n",
    "In this notebook, we reproduce the work of Yang (2020) to check the TTim performance in analysing slug-test. We later compare the solution in TTim with the KGS analytical model (Hyder et al. 1994) implemented in AQTESOLV (Duffield, 2007).\n",
    "\n",
    "This slug test was reported in Batu (1998). A well partially penetrates a sandy unconfined aquifer that has a saturated depth of 32.57 ft. The top of the screen is located 0.47 ft below the water table and has 13.8 ft in length. The well and casing radii are 5 and 2 inches, respectively.\n",
    "\n",
    "The slug displacement is 1.48 ft. Head change has been recorded at the slug well.\n",
    "\n",
    "The conceptual model is seen in the figure below."
   ]
  },
  {
   "cell_type": "code",
   "execution_count": 2,
   "metadata": {
    "editable": true,
    "slideshow": {
     "slide_type": ""
    },
    "tags": []
   },
   "outputs": [
    {
     "data": {
      "image/png": "[encoded data removed]",
      "text/plain": [
       "<Figure size 500x300 with 1 Axes>"
      ]
     },
     "metadata": {},
     "output_type": "display_data"
    }
   ],
   "source": [
    "import matplotlib.pyplot as plt\n",
    "import numpy as np\n",
    "\n",
    "##Now printing the conceptual model figure:\n",
    "\n",
    "fig = plt.figure()\n",
    "ax = fig.add_subplot(1, 1, 1)\n",
    "# sky\n",
    "sky = plt.Rectangle((-20, 2), width=50, height=20, fc=\"b\", zorder=0, alpha=0.1)\n",
    "ax.add_patch(sky)\n",
    "\n",
    "# Aquifer:\n",
    "ground = plt.Rectangle(\n",
    "    (-20, -32.57),\n",
    "    width=50,\n",
    "    height=34.57,\n",
    "    fc=np.array([209, 179, 127]) / 255,\n",
    "    zorder=0,\n",
    "    alpha=0.9,\n",
    ")\n",
    "ax.add_patch(ground)\n",
    "\n",
    "well = plt.Rectangle(\n",
    "    (-1, -(0.47 + 13.8)),\n",
    "    width=2,\n",
    "    height=(0.47 + 13.8) + 2,\n",
    "    fc=np.array([200, 200, 200]) / 255,\n",
    "    zorder=1,\n",
    ")\n",
    "ax.add_patch(well)\n",
    "\n",
    "# Wellhead\n",
    "wellhead = plt.Rectangle(\n",
    "    (-1.25, 2),\n",
    "    width=2.5,\n",
    "    height=10,\n",
    "    fc=np.array([200, 200, 200]) / 255,\n",
    "    zorder=2,\n",
    "    ec=\"k\",\n",
    ")\n",
    "ax.add_patch(wellhead)\n",
    "\n",
    "# Screen for the well:\n",
    "screen = plt.Rectangle(\n",
    "    (-1, -(0.47 + 13.8)),\n",
    "    width=2,\n",
    "    height=13.8,\n",
    "    fc=np.array([200, 200, 200]) / 255,\n",
    "    alpha=1,\n",
    "    zorder=2,\n",
    "    ec=\"k\",\n",
    "    ls=\"--\",\n",
    ")\n",
    "screen.set_linewidth(2)\n",
    "ax.add_patch(screen)\n",
    "pumping_arrow = plt.Arrow(x=0, y=10, dx=0, dy=6, color=\"#00035b\")\n",
    "ax.add_patch(pumping_arrow)\n",
    "ax.text(x=0.5, y=13, s=r\"$ D = 1.48$ ft\", fontsize=\"large\")\n",
    "\n",
    "# last line\n",
    "line = plt.Line2D(xdata=[-200, 1200], ydata=[2, 2], color=\"k\")\n",
    "ax.add_line(line)\n",
    "\n",
    "# water table\n",
    "line = plt.Line2D(xdata=[-200, 1200], ydata=[0, 0], color=\"blue\")\n",
    "ax.add_line(line)\n",
    "\n",
    "\n",
    "ax.set_xlim([-20, 20])\n",
    "ax.set_ylim([-32, 20])\n",
    "ax.set_xlabel(\"Distance [ft]\")\n",
    "ax.set_ylabel(\"Relative height [ft]\")\n",
    "ax.set_title(\"Conceptual Model - Falling Head Example\");"
   ]
  },
  {
   "cell_type": "markdown",
   "metadata": {},
   "source": [
    "## Step 2. Set basic parameters\n",
    "\n",
    "Parameters here declared are already converted from feet and inches to meters"
   ]
  },
  {
   "cell_type": "code",
   "execution_count": 3,
   "metadata": {},
   "outputs": [],
   "source": [
    "rw = 0.127  # well radius\n",
    "rc = 0.0508  # well casing radius\n",
    "L = 4.20624  # screen length\n",
    "b = -9.9274  # aquifer thickness\n",
    "zt = -0.1433  # depth to top of the screen\n",
    "H0 = 0.4511  # initial displacement in the well\n",
    "zb = zt - L  # bottom of the screen"
   ]
  },
  {
   "cell_type": "markdown",
   "metadata": {},
   "source": [
    "## Step 3. Converting slug displacement to volume"
   ]
  },
  {
   "cell_type": "code",
   "execution_count": 4,
   "metadata": {},
   "outputs": [
    {
     "name": "stdout",
     "output_type": "stream",
     "text": [
      "Slug: 0.00366 m^3\n"
     ]
    }
   ],
   "source": [
    "Q = np.pi * rc**2 * H0\n",
    "print(\"Slug:\", round(Q, 5), \"m^3\")"
   ]
  },
  {
   "cell_type": "markdown",
   "metadata": {},
   "source": [
    "## Step 4. Load data\n",
    "\n",
    "Drawdown data is available in feet and seconds and are converted to meters and days"
   ]
  },
  {
   "cell_type": "code",
   "execution_count": 5,
   "metadata": {},
   "outputs": [],
   "source": [
    "data = np.loadtxt(\"data/falling_head.txt\", skiprows=2)\n",
    "t = data[:, 0] / 60 / 60 / 24  # convert time from seconds to days\n",
    "h = (10 - data[:, 1]) * 0.3048  # convert drawdown from ft to meters"
   ]
  },
  {
   "cell_type": "markdown",
   "metadata": {},
   "source": [
    "## Step 5. Create First Model - three layers\n",
    "\n",
    "We begin with a model with just three layers. We arranged the layers to match the screen length. The first layer is located just above the screen, the second layer is located at the screen depths, and the last layer is just below the screen, up to the total aquifer depth.\n",
    "\n",
    "We set the model in the same manner as in [Slug 1 - Pratt County](slug1_pratt_county.ipynb)."
   ]
  },
  {
   "cell_type": "code",
   "execution_count": 6,
   "metadata": {},
   "outputs": [
    {
     "name": "stdout",
     "output_type": "stream",
     "text": [
      "self.neq  1\n",
      "solution complete\n"
     ]
    }
   ],
   "source": [
    "ml_0 = Model3D(kaq=10, z=[0, zt, zb, b], Saq=1e-4, tmin=1e-5, tmax=0.01)\n",
    "w_0 = Well(ml_0, xw=0, yw=0, rw=rw, rc=rc, tsandQ=[(0, -Q)], layers=1, wbstype=\"slug\")\n",
    "ml_0.solve()"
   ]
  },
  {
   "cell_type": "markdown",
   "metadata": {},
   "source": [
    "## Step 6. Model calibration\n",
    "\n",
    "The procedures for calibration can be seen in [Unconfined 1 - Vennebulten](unconfined1_vennebulten.ipynb)\n",
    "\n",
    "We calibrate hydraulic conductivity and specific storage, as in the KGS model (Hyder et al. 1994)."
   ]
  },
  {
   "cell_type": "code",
   "execution_count": 7,
   "metadata": {},
   "outputs": [
    {
     "name": "stdout",
     "output_type": "stream",
     "text": [
      "...............................................................\n",
      "Fit succeeded.\n",
      "[[Fit Statistics]]\n",
      "    # fitting method   = leastsq\n",
      "    # function evals   = 60\n",
      "    # data points      = 27\n",
      "    # variables        = 2\n",
      "    chi-square         = 0.00114578\n",
      "    reduced chi-square = 4.5831e-05\n",
      "    Akaike info crit   = -267.822650\n",
      "    Bayesian info crit = -265.230976\n",
      "[[Variables]]\n",
      "    kaq0_2:  0.59981087 +/- 0.03385855 (5.64%) (init = 10)\n",
      "    Saq0_2:  2.0901e-04 +/- 6.5392e-05 (31.29%) (init = 0.0001)\n",
      "[[Correlations]] (unreported correlations are < 0.100)\n",
      "    C(kaq0_2, Saq0_2) = -0.9720\n"
     ]
    }
   ],
   "source": [
    "ca_0 = Calibrate(ml_0)\n",
    "ca_0.set_parameter(name=\"kaq0_2\", initial=10)\n",
    "ca_0.set_parameter(name=\"Saq0_2\", initial=1e-4, pmin=1e-7)\n",
    "ca_0.series(name=\"obs\", x=0, y=0, t=t, h=h, layer=1)\n",
    "ca_0.fit(report=True)"
   ]
  },
  {
   "cell_type": "code",
   "execution_count": 8,
   "metadata": {},
   "outputs": [
    {
     "data": {
      "text/html": [
       "<div>\n",
       "<style scoped>\n",
       "    .dataframe tbody tr th:only-of-type {\n",
       "        vertical-align: middle;\n",
       "    }\n",
       "\n",
       "    .dataframe tbody tr th {\n",
       "        vertical-align: top;\n",
       "    }\n",
       "\n",
       "    .dataframe thead th {\n",
       "        text-align: right;\n",
       "    }\n",
       "</style>\n",
       "<table border=\"1\" class=\"dataframe\">\n",
       "  <thead>\n",
       "    <tr style=\"text-align: right;\">\n",
       "      <th></th>\n",
       "      <th>optimal</th>\n",
       "      <th>std</th>\n",
       "      <th>perc_std</th>\n",
       "      <th>pmin</th>\n",
       "      <th>pmax</th>\n",
       "      <th>initial</th>\n",
       "      <th>parray</th>\n",
       "    </tr>\n",
       "  </thead>\n",
       "  <tbody>\n",
       "    <tr>\n",
       "      <th>kaq0_2</th>\n",
       "      <td>0.599811</td>\n",
       "      <td>0.033859</td>\n",
       "      <td>5.644871</td>\n",
       "      <td>-inf</td>\n",
       "      <td>inf</td>\n",
       "      <td>10.0000</td>\n",
       "      <td>[0.5998108693035121, 0.5998108693035121, 0.599...</td>\n",
       "    </tr>\n",
       "    <tr>\n",
       "      <th>Saq0_2</th>\n",
       "      <td>0.000209</td>\n",
       "      <td>0.000065</td>\n",
       "      <td>31.286801</td>\n",
       "      <td>1.000000e-07</td>\n",
       "      <td>inf</td>\n",
       "      <td>0.0001</td>\n",
       "      <td>[0.00020900772948173607, 0.0002090077294817360...</td>\n",
       "    </tr>\n",
       "  </tbody>\n",
       "</table>\n",
       "</div>"
      ],
      "text/plain": [
       "         optimal       std   perc_std          pmin  pmax  initial  \\\n",
       "kaq0_2  0.599811  0.033859   5.644871          -inf   inf  10.0000   \n",
       "Saq0_2  0.000209  0.000065  31.286801  1.000000e-07   inf   0.0001   \n",
       "\n",
       "                                                   parray  \n",
       "kaq0_2  [0.5998108693035121, 0.5998108693035121, 0.599...  \n",
       "Saq0_2  [0.00020900772948173607, 0.0002090077294817360...  "
      ]
     },
     "metadata": {},
     "output_type": "display_data"
    },
    {
     "name": "stdout",
     "output_type": "stream",
     "text": [
      "RMSE: 0.006514317872522675\n"
     ]
    }
   ],
   "source": [
    "display(ca_0.parameters)\n",
    "print(\"RMSE:\", ca_0.rmse())"
   ]
  },
  {
   "cell_type": "code",
   "execution_count": 9,
   "metadata": {},
   "outputs": [
    {
     "data": {
      "image/png": "[encoded data removed]",
      "text/plain": [
       "<Figure size 500x300 with 1 Axes>"
      ]
     },
     "metadata": {},
     "output_type": "display_data"
    }
   ],
   "source": [
    "hm_0 = ml_0.head(0, 0, t, layers=1)\n",
    "plt.semilogx(t, h / H0, \".\", label=\"obs\")\n",
    "plt.semilogx(t, hm_0[0] / H0, label=\"ttim\")\n",
    "plt.xlabel(\"time [d]\")\n",
    "plt.ylabel(\"Normalized head (h/H0)\")\n",
    "plt.title(\"Model results - three layers model\")\n",
    "plt.legend()\n",
    "plt.grid()"
   ]
  },
  {
   "cell_type": "markdown",
   "metadata": {},
   "source": [
    "## Step 7. Create Second Model - multi-layer model\n",
    "\n",
    "To investigate whether we can improve the model performance, we will create a multi-layer model. For this, we divide the previous second and third layers into 0.5 m thick layers:"
   ]
  },
  {
   "cell_type": "code",
   "execution_count": 10,
   "metadata": {},
   "outputs": [],
   "source": [
    "# Determine elevation of each layer.\n",
    "# Thickness of each layer is set to be 0.5 m.\n",
    "z0 = np.arange(zt, zb, -0.5)\n",
    "z1 = np.arange(zb, b, -0.5)\n",
    "zlay = np.append(z0, z1)\n",
    "zlay = np.append(zlay, b)\n",
    "zlay = np.insert(zlay, 0, 0)\n",
    "nlay = len(zlay) - 1  # number of layers\n",
    "Saq_1 = 1e-4 * np.ones(nlay)\n",
    "Saq_1[0] = 0.1"
   ]
  },
  {
   "cell_type": "code",
   "execution_count": 11,
   "metadata": {},
   "outputs": [
    {
     "name": "stdout",
     "output_type": "stream",
     "text": [
      "self.neq  8\n",
      "solution complete\n"
     ]
    }
   ],
   "source": [
    "ml_1 = Model3D(\n",
    "    kaq=10, z=zlay, Saq=Saq_1, kzoverkh=1, tmin=1e-5, tmax=0.01, phreatictop=True\n",
    ")\n",
    "w_1 = Well(\n",
    "    ml_1,\n",
    "    xw=0,\n",
    "    yw=0,\n",
    "    rw=rw,\n",
    "    tsandQ=[(0, -Q)],\n",
    "    layers=[1, 2, 3, 4, 5, 6, 7, 8],\n",
    "    rc=rc,\n",
    "    wbstype=\"slug\",\n",
    ")\n",
    "ml_1.solve()"
   ]
  },
  {
   "cell_type": "markdown",
   "metadata": {},
   "source": [
    "## Step 8. Calibration of multi-layer model"
   ]
  },
  {
   "cell_type": "code",
   "execution_count": 12,
   "metadata": {},
   "outputs": [
    {
     "name": "stdout",
     "output_type": "stream",
     "text": [
      "...................................\n",
      "Fit succeeded.\n",
      "[[Fit Statistics]]\n",
      "    # fitting method   = leastsq\n",
      "    # function evals   = 32\n",
      "    # data points      = 27\n",
      "    # variables        = 2\n",
      "    chi-square         = 0.00108524\n",
      "    reduced chi-square = 4.3410e-05\n",
      "    Akaike info crit   = -269.288333\n",
      "    Bayesian info crit = -266.696659\n",
      "[[Variables]]\n",
      "    kaq0_21:  0.49534703 +/- 0.02256920 (4.56%) (init = 10)\n",
      "    Saq0_21:  4.0607e-04 +/- 1.0398e-04 (25.61%) (init = 0.0001)\n",
      "[[Correlations]] (unreported correlations are < 0.100)\n",
      "    C(kaq0_21, Saq0_21) = -0.9593\n"
     ]
    }
   ],
   "source": [
    "ca_1 = Calibrate(ml_1)\n",
    "ca_1.set_parameter(name=\"kaq0_21\", initial=10, pmin=0)\n",
    "ca_1.set_parameter(name=\"Saq0_21\", initial=1e-4, pmin=0)\n",
    "ca_1.series(name=\"obs\", x=0, y=0, layer=1, t=t, h=h)\n",
    "ca_1.fit(report=True)"
   ]
  },
  {
   "cell_type": "code",
   "execution_count": 13,
   "metadata": {},
   "outputs": [
    {
     "data": {
      "text/html": [
       "<div>\n",
       "<style scoped>\n",
       "    .dataframe tbody tr th:only-of-type {\n",
       "        vertical-align: middle;\n",
       "    }\n",
       "\n",
       "    .dataframe tbody tr th {\n",
       "        vertical-align: top;\n",
       "    }\n",
       "\n",
       "    .dataframe thead th {\n",
       "        text-align: right;\n",
       "    }\n",
       "</style>\n",
       "<table border=\"1\" class=\"dataframe\">\n",
       "  <thead>\n",
       "    <tr style=\"text-align: right;\">\n",
       "      <th></th>\n",
       "      <th>optimal</th>\n",
       "      <th>std</th>\n",
       "      <th>perc_std</th>\n",
       "      <th>pmin</th>\n",
       "      <th>pmax</th>\n",
       "      <th>initial</th>\n",
       "      <th>parray</th>\n",
       "    </tr>\n",
       "  </thead>\n",
       "  <tbody>\n",
       "    <tr>\n",
       "      <th>kaq0_21</th>\n",
       "      <td>0.495347</td>\n",
       "      <td>0.022569</td>\n",
       "      <td>4.556241</td>\n",
       "      <td>0</td>\n",
       "      <td>inf</td>\n",
       "      <td>10.0000</td>\n",
       "      <td>[0.4953470298678706, 0.4953470298678706, 0.495...</td>\n",
       "    </tr>\n",
       "    <tr>\n",
       "      <th>Saq0_21</th>\n",
       "      <td>0.000406</td>\n",
       "      <td>0.000104</td>\n",
       "      <td>25.607619</td>\n",
       "      <td>0</td>\n",
       "      <td>inf</td>\n",
       "      <td>0.0001</td>\n",
       "      <td>[0.00040606934369180614, 0.0004060693436918061...</td>\n",
       "    </tr>\n",
       "  </tbody>\n",
       "</table>\n",
       "</div>"
      ],
      "text/plain": [
       "          optimal       std   perc_std  pmin  pmax  initial  \\\n",
       "kaq0_21  0.495347  0.022569   4.556241     0   inf  10.0000   \n",
       "Saq0_21  0.000406  0.000104  25.607619     0   inf   0.0001   \n",
       "\n",
       "                                                    parray  \n",
       "kaq0_21  [0.4953470298678706, 0.4953470298678706, 0.495...  \n",
       "Saq0_21  [0.00040606934369180614, 0.0004060693436918061...  "
      ]
     },
     "metadata": {},
     "output_type": "display_data"
    },
    {
     "name": "stdout",
     "output_type": "stream",
     "text": [
      "RMSE: 0.006339882457078611\n"
     ]
    }
   ],
   "source": [
    "display(ca_1.parameters)\n",
    "print(\"RMSE:\", ca_1.rmse())"
   ]
  },
  {
   "cell_type": "markdown",
   "metadata": {},
   "source": [
    "RMSE has just slightly improved, and the parameter values are more or less similar to the previous values. However, AIC has improved significantly."
   ]
  },
  {
   "cell_type": "code",
   "execution_count": 14,
   "metadata": {},
   "outputs": [
    {
     "data": {
      "image/png": "[encoded data removed]",
      "text/plain": [
       "<Figure size 500x300 with 1 Axes>"
      ]
     },
     "metadata": {},
     "output_type": "display_data"
    }
   ],
   "source": [
    "hm_1 = ml_1.head(0, 0, t, layers=8)\n",
    "plt.semilogx(t, h / H0, \".\", label=\"obs\")\n",
    "plt.semilogx(t, hm_1[0] / H0, label=\"ttim\")\n",
    "plt.xlabel(\"time(d)\")\n",
    "plt.ylabel(\"h/H0\")\n",
    "plt.legend()\n",
    "plt.grid()"
   ]
  },
  {
   "cell_type": "markdown",
   "metadata": {},
   "source": [
    "## Step 9. Final Model calibration with well skin resistance\n",
    "\n",
    "Now we test if the skin resistance of the well has an impact on model calibration. For this, we add the ```res``` parameter in the calibration settings. We use the same multi-layer model."
   ]
  },
  {
   "cell_type": "code",
   "execution_count": 15,
   "metadata": {},
   "outputs": [
    {
     "name": "stdout",
     "output_type": "stream",
     "text": [
      "...........................................................\n",
      "Fit succeeded.\n",
      "[[Fit Statistics]]\n",
      "    # fitting method   = leastsq\n",
      "    # function evals   = 56\n",
      "    # data points      = 27\n",
      "    # variables        = 3\n",
      "    chi-square         = 0.00261618\n",
      "    reduced chi-square = 1.0901e-04\n",
      "    Akaike info crit   = -243.530660\n",
      "    Bayesian info crit = -239.643150\n",
      "[[Variables]]\n",
      "    kaq0_21:  0.77614880 +/- 0.14548992 (18.75%) (init = 10)\n",
      "    Saq0_21:  1.9868e-06 +/- 7.1794e-06 (361.36%) (init = 0.0001)\n",
      "    res:      0.03586282 +/- 0.01085492 (30.27%) (init = 0.1)\n",
      "[[Correlations]] (unreported correlations are < 0.100)\n",
      "    C(kaq0_21, Saq0_21) = -0.9951\n",
      "    C(Saq0_21, res)     = -0.8114\n",
      "    C(kaq0_21, res)     = +0.7922\n"
     ]
    }
   ],
   "source": [
    "ca_2 = Calibrate(ml_1)\n",
    "ca_2.set_parameter(name=\"kaq0_21\", initial=10, pmin=0)\n",
    "ca_2.set_parameter(name=\"Saq0_21\", initial=1e-4, pmin=0)\n",
    "ca_2.set_parameter_by_reference(name=\"res\", parameter=w_1.res, initial=0.1, pmin=0)\n",
    "ca_2.series(name=\"obs\", x=0, y=0, layer=1, t=t, h=h)\n",
    "ca_2.fit(report=True)"
   ]
  },
  {
   "cell_type": "code",
   "execution_count": 16,
   "metadata": {},
   "outputs": [
    {
     "data": {
      "text/html": [
       "<div>\n",
       "<style scoped>\n",
       "    .dataframe tbody tr th:only-of-type {\n",
       "        vertical-align: middle;\n",
       "    }\n",
       "\n",
       "    .dataframe tbody tr th {\n",
       "        vertical-align: top;\n",
       "    }\n",
       "\n",
       "    .dataframe thead th {\n",
       "        text-align: right;\n",
       "    }\n",
       "</style>\n",
       "<table border=\"1\" class=\"dataframe\">\n",
       "  <thead>\n",
       "    <tr style=\"text-align: right;\">\n",
       "      <th></th>\n",
       "      <th>optimal</th>\n",
       "      <th>std</th>\n",
       "      <th>perc_std</th>\n",
       "      <th>pmin</th>\n",
       "      <th>pmax</th>\n",
       "      <th>initial</th>\n",
       "      <th>parray</th>\n",
       "    </tr>\n",
       "  </thead>\n",
       "  <tbody>\n",
       "    <tr>\n",
       "      <th>kaq0_21</th>\n",
       "      <td>0.776149</td>\n",
       "      <td>0.145490</td>\n",
       "      <td>18.745106</td>\n",
       "      <td>0</td>\n",
       "      <td>inf</td>\n",
       "      <td>10.0000</td>\n",
       "      <td>[0.776148804286849, 0.776148804286849, 0.77614...</td>\n",
       "    </tr>\n",
       "    <tr>\n",
       "      <th>Saq0_21</th>\n",
       "      <td>0.000002</td>\n",
       "      <td>0.000007</td>\n",
       "      <td>361.360601</td>\n",
       "      <td>0</td>\n",
       "      <td>inf</td>\n",
       "      <td>0.0001</td>\n",
       "      <td>[1.9867660865369174e-06, 1.9867660865369174e-0...</td>\n",
       "    </tr>\n",
       "    <tr>\n",
       "      <th>res</th>\n",
       "      <td>0.035863</td>\n",
       "      <td>0.010855</td>\n",
       "      <td>30.267890</td>\n",
       "      <td>0</td>\n",
       "      <td>inf</td>\n",
       "      <td>0.1000</td>\n",
       "      <td>[0.03586281612741771]</td>\n",
       "    </tr>\n",
       "  </tbody>\n",
       "</table>\n",
       "</div>"
      ],
      "text/plain": [
       "          optimal       std    perc_std  pmin  pmax  initial  \\\n",
       "kaq0_21  0.776149  0.145490   18.745106     0   inf  10.0000   \n",
       "Saq0_21  0.000002  0.000007  361.360601     0   inf   0.0001   \n",
       "res      0.035863  0.010855   30.267890     0   inf   0.1000   \n",
       "\n",
       "                                                    parray  \n",
       "kaq0_21  [0.776148804286849, 0.776148804286849, 0.77614...  \n",
       "Saq0_21  [1.9867660865369174e-06, 1.9867660865369174e-0...  \n",
       "res                                  [0.03586281612741771]  "
      ]
     },
     "metadata": {},
     "output_type": "display_data"
    },
    {
     "name": "stdout",
     "output_type": "stream",
     "text": [
      "RMSE: 0.0098435569739182\n"
     ]
    }
   ],
   "source": [
    "display(ca_2.parameters)\n",
    "print(\"RMSE:\", ca_2.rmse())"
   ]
  },
  {
   "cell_type": "markdown",
   "metadata": {},
   "source": [
    "The model has only improved slightly with the addition of the skin resistance, with a tiny improvement in AIC and RMSE. That indicates that skin resistance can be ignored in this situation."
   ]
  },
  {
   "cell_type": "code",
   "execution_count": 17,
   "metadata": {},
   "outputs": [
    {
     "data": {
      "image/png": "[encoded data removed]",
      "text/plain": [
       "<Figure size 500x300 with 1 Axes>"
      ]
     },
     "metadata": {},
     "output_type": "display_data"
    }
   ],
   "source": [
    "hm_2 = ml_1.head(0, 0, t, layers=8)\n",
    "plt.semilogx(t, h / H0, \".\", label=\"obs\")\n",
    "plt.semilogx(t, hm_2[0] / H0, label=\"ttim\")\n",
    "plt.xlabel(\"time(d)\")\n",
    "plt.ylabel(\"h/H0\")\n",
    "plt.legend()\n",
    "plt.grid()"
   ]
  },
  {
   "cell_type": "markdown",
   "metadata": {},
   "source": [
    "## Step 10. Analysis and comparison of simulated values\n",
    "\n",
    "We now compare the values in TTim and add the results of the AQTESOLV modelling reported by Yang (2020)."
   ]
  },
  {
   "cell_type": "code",
   "execution_count": 18,
   "metadata": {},
   "outputs": [
    {
     "data": {
      "text/html": [
       "<style type=\"text/css\">\n",
       "</style>\n",
       "<table id=\"T_7095a\">\n",
       "  <caption>Comparison of parameter values and error under different models</caption>\n",
       "  <thead>\n",
       "    <tr>\n",
       "      <th class=\"blank level0\" >&nbsp;</th>\n",
       "      <th id=\"T_7095a_level0_col0\" class=\"col_heading level0 col0\" >k [m/d]</th>\n",
       "      <th id=\"T_7095a_level0_col1\" class=\"col_heading level0 col1\" >Ss [1/m]</th>\n",
       "      <th id=\"T_7095a_level0_col2\" class=\"col_heading level0 col2\" >res [1/d]</th>\n",
       "      <th id=\"T_7095a_level0_col3\" class=\"col_heading level0 col3\" >RMSE</th>\n",
       "    </tr>\n",
       "  </thead>\n",
       "  <tbody>\n",
       "    <tr>\n",
       "      <th id=\"T_7095a_level0_row0\" class=\"row_heading level0 row0\" >AQTESOLV</th>\n",
       "      <td id=\"T_7095a_row0_col0\" class=\"data row0 col0\" >2.616000</td>\n",
       "      <td id=\"T_7095a_row0_col1\" class=\"data row0 col1\" >0.000079</td>\n",
       "      <td id=\"T_7095a_row0_col2\" class=\"data row0 col2\" >nan</td>\n",
       "      <td id=\"T_7095a_row0_col3\" class=\"data row0 col3\" >0.001197</td>\n",
       "    </tr>\n",
       "    <tr>\n",
       "      <th id=\"T_7095a_level0_row1\" class=\"row_heading level0 row1\" >ttim-three</th>\n",
       "      <td id=\"T_7095a_row1_col0\" class=\"data row1 col0\" >0.599811</td>\n",
       "      <td id=\"T_7095a_row1_col1\" class=\"data row1 col1\" >0.000209</td>\n",
       "      <td id=\"T_7095a_row1_col2\" class=\"data row1 col2\" >nan</td>\n",
       "      <td id=\"T_7095a_row1_col3\" class=\"data row1 col3\" >0.006514</td>\n",
       "    </tr>\n",
       "    <tr>\n",
       "      <th id=\"T_7095a_level0_row2\" class=\"row_heading level0 row2\" >ttim-multi</th>\n",
       "      <td id=\"T_7095a_row2_col0\" class=\"data row2 col0\" >0.495347</td>\n",
       "      <td id=\"T_7095a_row2_col1\" class=\"data row2 col1\" >0.000406</td>\n",
       "      <td id=\"T_7095a_row2_col2\" class=\"data row2 col2\" >nan</td>\n",
       "      <td id=\"T_7095a_row2_col3\" class=\"data row2 col3\" >0.017475</td>\n",
       "    </tr>\n",
       "    <tr>\n",
       "      <th id=\"T_7095a_level0_row3\" class=\"row_heading level0 row3\" >ttim-res</th>\n",
       "      <td id=\"T_7095a_row3_col0\" class=\"data row3 col0\" >0.776149</td>\n",
       "      <td id=\"T_7095a_row3_col1\" class=\"data row3 col1\" >0.000002</td>\n",
       "      <td id=\"T_7095a_row3_col2\" class=\"data row3 col2\" >0.035863</td>\n",
       "      <td id=\"T_7095a_row3_col3\" class=\"data row3 col3\" >0.009844</td>\n",
       "    </tr>\n",
       "  </tbody>\n",
       "</table>\n"
      ],
      "text/plain": [
       "<pandas.io.formats.style.Styler at 0x174e73850>"
      ]
     },
     "execution_count": 18,
     "metadata": {},
     "output_type": "execute_result"
    }
   ],
   "source": [
    "ta = pd.DataFrame(\n",
    "    columns=[\"k [m/d]\", \"Ss [1/m]\", \"res [1/d]\"],\n",
    "    index=[\"AQTESOLV\", \"ttim-three\", \"ttim-multi\", \"ttim-res\"],\n",
    ")\n",
    "ta.loc[\"ttim-three\"] = np.concatenate((ca_0.parameters[\"optimal\"].values, [np.nan]))\n",
    "ta.loc[\"ttim-multi\"] = np.concatenate((ca_1.parameters[\"optimal\"].values, [np.nan]))\n",
    "ta.loc[\"ttim-res\"] = ca_2.parameters[\"optimal\"].values\n",
    "ta.loc[\"AQTESOLV\"] = [2.616, 7.894e-5] + [np.nan]\n",
    "ta[\"RMSE\"] = [\n",
    "    0.001197,\n",
    "    round(ca_0.rmse(), 6),\n",
    "    round(ca_1.rmse(), 6),\n",
    "    round(ca_2.rmse(), 6),\n",
    "]\n",
    "ta.style.set_caption(\"Comparison of parameter values and error under different models\")"
   ]
  },
  {
   "cell_type": "markdown",
   "metadata": {},
   "source": [
    "AQTESOLV parameters are quite different from the set parameters in TTim. It also has a better RMSE performance. All TTim models are very similar to each other. However, the multi-layer models performed better."
   ]
  },
  {
   "cell_type": "markdown",
   "metadata": {
    "editable": true,
    "slideshow": {
     "slide_type": ""
    },
    "tags": []
   },
   "source": [
    "## References\n",
    "\n",
    "* Batu, V., 1998. Aquifer hydraulics: a comprehensive guide to hydrogeologic data analysis. John Wiley & Sons\n",
    "* Hyder, Z., Butler Jr, J.J., McElwee, C.D., Liu, W., 1994. Slug tests in partially penetrating wells. Water Resources Research 30, 2945–2957.\n",
    "* Duffield, G.M., 2007. AQTESOLV for Windows Version 4.5 User's Guide, HydroSOLVE, Inc., Reston, VA.\n",
    "* Yang, Xinzhu (2020) Application and comparison of different methodsfor aquifer test analysis using TTim. Master Thesis, Delft University of Technology (TUDelft), Delft, The Netherlands."
   ]
  }
 ],
 "metadata": {
  "kernelspec": {
   "display_name": "Python 3 (ipykernel)",
   "language": "python",
   "name": "python3"
  },
  "language_info": {
   "codemirror_mode": {
    "name": "ipython",
    "version": 3
   },
   "file_extension": ".py",
   "mimetype": "text/x-python",
   "name": "python",
   "nbconvert_exporter": "python",
   "pygments_lexer": "ipython3",
   "version": "3.11.4"
  }
 },
 "nbformat": 4,
 "nbformat_minor": 4
}
