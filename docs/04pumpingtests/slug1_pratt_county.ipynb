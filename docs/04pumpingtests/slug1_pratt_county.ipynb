{
 "cells": [
  {
   "cell_type": "markdown",
   "metadata": {},
   "source": [
    "# 1. Slug Test - Pratt County\n",
    "**This test is taken from AQTESOLV examples.**"
   ]
  },
  {
   "cell_type": "markdown",
   "metadata": {},
   "source": [
    "## Step 1. Load required libraries"
   ]
  },
  {
   "cell_type": "code",
   "execution_count": 1,
   "metadata": {
    "editable": true,
    "slideshow": {
     "slide_type": ""
    },
    "tags": []
   },
   "outputs": [],
   "source": [
    "import numpy as np\n",
    "import matplotlib.pyplot as plt\n",
    "plt.rcParams['figure.figsize'] = [5, 3]\n",
    "import pandas as pd\n",
    "from ttim import *"
   ]
  },
  {
   "cell_type": "markdown",
   "metadata": {},
   "source": [
    "## Introduction and Conceptual Model"
   ]
  },
  {
   "cell_type": "markdown",
   "metadata": {},
   "source": [
    "In this notebook, we reproduce the work of Yang (2020) to check the TTim performance in analysing slug tests. We later compare the solution in TTim with the KGS analytical model (Hyder et al. 1994) implemented in AQTESOLV (Duffield, 2007).\n",
    "\n",
    "This slug test was conducted in Pratt County Monitoring Site, US, and reported by Butler (1998). A partially penetrating well is screened in unconsolidated alluvial deposits, consisting of sand and gravel interbedded by clay. The total thickness of the aquifer is 47.87 m. The screen is located at 16.77 m depth and has a screen length 1.52 m the well radius is 0.125 m, and the casing radius 0.064 m.\n",
    "\n",
    "The slug displacement is 0.671 m. Head change has been recorded at the slug well.\n",
    "\n",
    "The conceptual model can be seen in the figure below."
   ]
  },
  {
   "cell_type": "code",
   "execution_count": 2,
   "metadata": {
    "tags": [
     "hide-input"
    ]
   },
   "outputs": [
    {
     "data": {
      "image/png": "[encoded data removed]",
      "text/plain": [
       "<Figure size 500x300 with 1 Axes>"
      ]
     },
     "metadata": {},
     "output_type": "display_data"
    }
   ],
   "source": [
    "import matplotlib.pyplot as plt\n",
    "import numpy as np\n",
    "\n",
    "##Now printing the conceptual model figure:\n",
    "\n",
    "fig = plt.figure()\n",
    "ax = fig.add_subplot(1, 1, 1)\n",
    "# sky\n",
    "sky = plt.Rectangle((-20, 0), width=50, height=20, fc=\"b\", zorder=0, alpha=0.1)\n",
    "ax.add_patch(sky)\n",
    "\n",
    "# Aquifer:\n",
    "ground = plt.Rectangle(\n",
    "    (-20, -47.87),\n",
    "    width=50,\n",
    "    height=47.87,\n",
    "    fc=np.array([209, 179, 127]) / 255,\n",
    "    zorder=0,\n",
    "    alpha=0.9,\n",
    ")\n",
    "ax.add_patch(ground)\n",
    "\n",
    "well = plt.Rectangle(\n",
    "    (-1, -(16.77 + 1.52)),\n",
    "    width=2,\n",
    "    height=(16.77 + 1.52),\n",
    "    fc=np.array([200, 200, 200]) / 255,\n",
    "    zorder=1,\n",
    ")\n",
    "ax.add_patch(well)\n",
    "\n",
    "# Wellhead\n",
    "wellhead = plt.Rectangle(\n",
    "    (-1.25, 0),\n",
    "    width=2.5,\n",
    "    height=10,\n",
    "    fc=np.array([200, 200, 200]) / 255,\n",
    "    zorder=2,\n",
    "    ec=\"k\",\n",
    ")\n",
    "ax.add_patch(wellhead)\n",
    "\n",
    "# Screen for the well:\n",
    "screen = plt.Rectangle(\n",
    "    (-1, -(16.77 + 1.52)),\n",
    "    width=2,\n",
    "    height=1.52,\n",
    "    fc=np.array([200, 200, 200]) / 255,\n",
    "    alpha=1,\n",
    "    zorder=2,\n",
    "    ec=\"k\",\n",
    "    ls=\"--\",\n",
    ")\n",
    "screen.set_linewidth(2)\n",
    "ax.add_patch(screen)\n",
    "pumping_arrow = plt.Arrow(x=0, y=10, dx=0, dy=3, color=\"#00035b\")\n",
    "ax.add_patch(pumping_arrow)\n",
    "ax.text(x=0.5, y=11, s=r\"$ D = 0.671$ m\", fontsize=\"large\")\n",
    "\n",
    "# last line\n",
    "line = plt.Line2D(xdata=[-200, 1200], ydata=[0, 0], color=\"k\")\n",
    "ax.add_line(line)\n",
    "\n",
    "\n",
    "ax.set_xlim([-20, 30])\n",
    "ax.set_ylim([-47, 20])\n",
    "ax.set_xlabel(\"Distance [m]\")\n",
    "ax.set_ylabel(\"Relative height [m]\")\n",
    "ax.set_title(\"Conceptual Model - Pratt County Example\");"
   ]
  },
  {
   "cell_type": "markdown",
   "metadata": {},
   "source": [
    "## Step 2. Set basic parameters"
   ]
  },
  {
   "cell_type": "code",
   "execution_count": 3,
   "metadata": {},
   "outputs": [],
   "source": [
    "rw = 0.125  # well radius, m\n",
    "rc = 0.064  # well casing radius, m\n",
    "L = 1.52  # screen length, m\n",
    "b = -47.87  # aquifer thickness, m\n",
    "zt = -16.77  # depth to top of screen, m\n",
    "H0 = 0.671  # initial displacement in the well, m\n",
    "zb = zt - L  # bottom of screen, m"
   ]
  },
  {
   "cell_type": "markdown",
   "metadata": {},
   "source": [
    "## Step 3. Calculate the added volume\n",
    "\n",
    "As we will see later, the input for the slug test in TTim is the added or removed volume. Therefore we must first convert our measured displacement into volume."
   ]
  },
  {
   "cell_type": "code",
   "execution_count": 4,
   "metadata": {},
   "outputs": [
    {
     "name": "stdout",
     "output_type": "stream",
     "text": [
      "slug: 0.00863 m^3\n"
     ]
    }
   ],
   "source": [
    "Q = np.pi * rc**2 * H0\n",
    "print(\"slug:\", round(Q, 5), \"m^3\")"
   ]
  },
  {
   "cell_type": "markdown",
   "metadata": {},
   "source": [
    "## Step 4. Load data from well"
   ]
  },
  {
   "cell_type": "markdown",
   "metadata": {},
   "source": [
    "Data from the slug well is loaded from a text file, where the first column is the time in seconds and the second column is the head."
   ]
  },
  {
   "cell_type": "code",
   "execution_count": 5,
   "metadata": {},
   "outputs": [],
   "source": [
    "data = np.loadtxt(\"data/slug.txt\", skiprows=1)\n",
    "t = data[:, 0] / 60 / 60 / 24  # convert time to days\n",
    "h = data[:, 1]"
   ]
  },
  {
   "cell_type": "markdown",
   "metadata": {},
   "source": [
    "## Step 5. Create a conceptual model in TTim\n",
    "\n",
    "We conceptualize the aquifer as a three-layer model, one layer above the screen, one layer at the screen top and bottom and another layer just below it.\n",
    "\n",
    "We use ```Model3D``` method to build this model. Details on how to set the model can be seen in notebook: [Unconfined - 1 - Vennebulten](unconfined1_vennebulten.ipynb).\n",
    "\n",
    "The setting of the slug well is slightly different from the pumping well. We detail the differences below:\n",
    "* the ```tsandQ``` argument in the ```Well``` object has a different meaning. Instead of meaning the time of start or shutdown and the pumping rate of the pumping well, it means the time a volume is instantaneously added or removed from the well. In our case, we defined it as ```[(0, -Q)]``` where ```0``` is the moment in time when we added the slug and ```Q``` is the added volume. A negative sign means a volume is added. Otherwise, it would mean an extracted volume.\n",
    "* the ```wbstype``` argument is set to ```' slug'```, so TTim knows the ```tsandQ``` argument means time and instant volumes, instead of pumping rates."
   ]
  },
  {
   "cell_type": "code",
   "execution_count": 6,
   "metadata": {},
   "outputs": [
    {
     "name": "stdout",
     "output_type": "stream",
     "text": [
      "self.neq  1\n",
      "solution complete\n"
     ]
    }
   ],
   "source": [
    "ml = Model3D(kaq=10, z=[0, zt, zb, b], Saq=1e-4, kzoverkh=1, tmin=1e-6, tmax=0.01)\n",
    "w = Well(ml, xw=0, yw=0, rw=rw, rc=rc, tsandQ=[(0, -Q)], layers=1, wbstype=\"slug\")\n",
    "ml.solve()"
   ]
  },
  {
   "cell_type": "markdown",
   "metadata": {},
   "source": [
    "## Step 6. Model calibration\n",
    "\n",
    "We calibrate both hydraulic conductivity and specific storage, considering uniform parameters in all layers."
   ]
  },
  {
   "cell_type": "code",
   "execution_count": 7,
   "metadata": {},
   "outputs": [
    {
     "name": "stdout",
     "output_type": "stream",
     "text": [
      "............................\n",
      "Fit succeeded.\n",
      "[[Fit Statistics]]\n",
      "    # fitting method   = leastsq\n",
      "    # function evals   = 25\n",
      "    # data points      = 61\n",
      "    # variables        = 2\n",
      "    chi-square         = 4.9747e-04\n",
      "    reduced chi-square = 8.4317e-06\n",
      "    Akaike info crit   = -710.727642\n",
      "    Bayesian info crit = -706.505894\n",
      "[[Variables]]\n",
      "    kaq0_2:  6.04908518 +/- 0.02313818 (0.38%) (init = 10)\n",
      "    Saq0_2:  2.1325e-04 +/- 9.5766e-06 (4.49%) (init = 0.0001)\n",
      "[[Correlations]] (unreported correlations are < 0.100)\n",
      "    C(kaq0_2, Saq0_2) = -0.5836\n"
     ]
    }
   ],
   "source": [
    "ca = Calibrate(ml)\n",
    "ca.set_parameter(name=\"kaq0_2\", initial=10)\n",
    "ca.set_parameter(name=\"Saq0_2\", initial=1e-4)\n",
    "ca.series(name=\"obs\", x=0, y=0, layer=1, t=t, h=h)\n",
    "ca.fit(report=True)"
   ]
  },
  {
   "cell_type": "code",
   "execution_count": 8,
   "metadata": {},
   "outputs": [
    {
     "data": {
      "text/html": [
       "<div>\n",
       "<style scoped>\n",
       "    .dataframe tbody tr th:only-of-type {\n",
       "        vertical-align: middle;\n",
       "    }\n",
       "\n",
       "    .dataframe tbody tr th {\n",
       "        vertical-align: top;\n",
       "    }\n",
       "\n",
       "    .dataframe thead th {\n",
       "        text-align: right;\n",
       "    }\n",
       "</style>\n",
       "<table border=\"1\" class=\"dataframe\">\n",
       "  <thead>\n",
       "    <tr style=\"text-align: right;\">\n",
       "      <th></th>\n",
       "      <th>optimal</th>\n",
       "      <th>std</th>\n",
       "      <th>perc_std</th>\n",
       "      <th>pmin</th>\n",
       "      <th>pmax</th>\n",
       "      <th>initial</th>\n",
       "      <th>parray</th>\n",
       "    </tr>\n",
       "  </thead>\n",
       "  <tbody>\n",
       "    <tr>\n",
       "      <th>kaq0_2</th>\n",
       "      <td>6.049085</td>\n",
       "      <td>0.023138</td>\n",
       "      <td>0.382507</td>\n",
       "      <td>-inf</td>\n",
       "      <td>inf</td>\n",
       "      <td>10.0000</td>\n",
       "      <td>[6.049085184433308, 6.049085184433308, 6.04908...</td>\n",
       "    </tr>\n",
       "    <tr>\n",
       "      <th>Saq0_2</th>\n",
       "      <td>0.000213</td>\n",
       "      <td>0.000010</td>\n",
       "      <td>4.490863</td>\n",
       "      <td>-inf</td>\n",
       "      <td>inf</td>\n",
       "      <td>0.0001</td>\n",
       "      <td>[0.00021324705409226575, 0.0002132470540922657...</td>\n",
       "    </tr>\n",
       "  </tbody>\n",
       "</table>\n",
       "</div>"
      ],
      "text/plain": [
       "         optimal       std  perc_std  pmin  pmax  initial  \\\n",
       "kaq0_2  6.049085  0.023138  0.382507  -inf   inf  10.0000   \n",
       "Saq0_2  0.000213  0.000010  4.490863  -inf   inf   0.0001   \n",
       "\n",
       "                                                   parray  \n",
       "kaq0_2  [6.049085184433308, 6.049085184433308, 6.04908...  \n",
       "Saq0_2  [0.00021324705409226575, 0.0002132470540922657...  "
      ]
     },
     "metadata": {},
     "output_type": "display_data"
    },
    {
     "name": "stdout",
     "output_type": "stream",
     "text": [
      "RMSE: 0.002855742798130468\n"
     ]
    }
   ],
   "source": [
    "display(ca.parameters)\n",
    "print(\"RMSE:\", ca.rmse())"
   ]
  },
  {
   "cell_type": "markdown",
   "metadata": {},
   "source": [
    "Here we plot the results in heads over initial heads, as done for the graphical solution."
   ]
  },
  {
   "cell_type": "code",
   "execution_count": 9,
   "metadata": {},
   "outputs": [
    {
     "data": {
      "image/png": "[encoded data removed]",
      "text/plain": [
       "<Figure size 500x300 with 1 Axes>"
      ]
     },
     "metadata": {},
     "output_type": "display_data"
    }
   ],
   "source": [
    "hm = ml.head(0, 0, t, layers=1)\n",
    "plt.semilogx(t, h / H0, \".\", label=\"obs\")\n",
    "plt.semilogx(t, hm[-1] / H0, \"r\", label=\"ttim\")\n",
    "plt.ylim([0, 1])\n",
    "plt.xlabel(\"time [d]\")\n",
    "plt.ylabel(\"h/H0\")\n",
    "plt.title(\"Model Results - Three layers\")\n",
    "plt.legend()\n",
    "plt.grid()"
   ]
  },
  {
   "cell_type": "markdown",
   "metadata": {},
   "source": [
    "## Step 7. A conceptual model with more layers\n",
    "\n",
    "Now we check the model performance in a model with more layers.\n",
    "We use the same division that we set before, but now we divide the first layers into 18 layers, the second layer into 3 layers and the third layer into 29 layers. So each layer is roughly 1 m thick."
   ]
  },
  {
   "cell_type": "code",
   "execution_count": 10,
   "metadata": {},
   "outputs": [],
   "source": [
    "n1 = 18\n",
    "n2 = 3\n",
    "n3 = 29\n",
    "nlay = n1 + n2 + n3  # number of layers\n",
    "zlay1 = np.linspace(0, zt, n1 + 1)\n",
    "zlay2 = np.linspace(zt, zb, n2 + 1)\n",
    "zlay3 = np.linspace(zb, b, n3 + 1)\n",
    "layers = np.append(zlay1[:-1], zlay2[:-1])\n",
    "layers = np.append(layers, zlay3)  # elevation of each layer\n",
    "Saq = 1e-4 * np.ones(nlay)\n",
    "Saq[0] = 0.1"
   ]
  },
  {
   "cell_type": "code",
   "execution_count": 11,
   "metadata": {},
   "outputs": [
    {
     "name": "stdout",
     "output_type": "stream",
     "text": [
      "self.neq  3\n",
      "solution complete\n"
     ]
    }
   ],
   "source": [
    "M_nlay = Model3D(\n",
    "    kaq=10, z=layers, Saq=Saq, kzoverkh=1, phreatictop=True, tmin=1e-6, tmax=0.01\n",
    ")\n",
    "W_nlay = Well(\n",
    "    M_nlay,\n",
    "    xw=0,\n",
    "    yw=0,\n",
    "    rw=rw,\n",
    "    tsandQ=[(0, -Q)],\n",
    "    layers=[18, 19, 20],\n",
    "    rc=rc,\n",
    "    wbstype=\"slug\",\n",
    ")\n",
    "M_nlay.solve()"
   ]
  },
  {
   "cell_type": "markdown",
   "metadata": {},
   "source": [
    "## Step 8. Calibration of multi-layer model"
   ]
  },
  {
   "cell_type": "code",
   "execution_count": 12,
   "metadata": {},
   "outputs": [
    {
     "name": "stdout",
     "output_type": "stream",
     "text": [
      ".............................................\n",
      "Fit succeeded.\n",
      "[[Fit Statistics]]\n",
      "    # fitting method   = leastsq\n",
      "    # function evals   = 42\n",
      "    # data points      = 61\n",
      "    # variables        = 2\n",
      "    chi-square         = 5.3037e-04\n",
      "    reduced chi-square = 8.9893e-06\n",
      "    Akaike info crit   = -706.821777\n",
      "    Bayesian info crit = -702.600029\n",
      "[[Variables]]\n",
      "    kaq0_49:  4.26690409 +/- 0.02203988 (0.52%) (init = 10)\n",
      "    Saq0_49:  4.8889e-04 +/- 3.2195e-05 (6.59%) (init = 0.0001)\n",
      "[[Correlations]] (unreported correlations are < 0.100)\n",
      "    C(kaq0_49, Saq0_49) = -0.7805\n"
     ]
    }
   ],
   "source": [
    "cM = Calibrate(M_nlay)\n",
    "cM.set_parameter(name=\"kaq0_49\", initial=10)\n",
    "cM.set_parameter(name=\"Saq0_49\", initial=1e-4, pmin=1e-7)\n",
    "cM.series(name=\"obs\", x=0, y=0, layer=18, t=t, h=h)\n",
    "cM.fit()"
   ]
  },
  {
   "cell_type": "code",
   "execution_count": 13,
   "metadata": {},
   "outputs": [
    {
     "data": {
      "text/html": [
       "<div>\n",
       "<style scoped>\n",
       "    .dataframe tbody tr th:only-of-type {\n",
       "        vertical-align: middle;\n",
       "    }\n",
       "\n",
       "    .dataframe tbody tr th {\n",
       "        vertical-align: top;\n",
       "    }\n",
       "\n",
       "    .dataframe thead th {\n",
       "        text-align: right;\n",
       "    }\n",
       "</style>\n",
       "<table border=\"1\" class=\"dataframe\">\n",
       "  <thead>\n",
       "    <tr style=\"text-align: right;\">\n",
       "      <th></th>\n",
       "      <th>optimal</th>\n",
       "      <th>std</th>\n",
       "      <th>perc_std</th>\n",
       "      <th>pmin</th>\n",
       "      <th>pmax</th>\n",
       "      <th>initial</th>\n",
       "      <th>parray</th>\n",
       "    </tr>\n",
       "  </thead>\n",
       "  <tbody>\n",
       "    <tr>\n",
       "      <th>kaq0_49</th>\n",
       "      <td>4.266904</td>\n",
       "      <td>0.022040</td>\n",
       "      <td>0.516531</td>\n",
       "      <td>-inf</td>\n",
       "      <td>inf</td>\n",
       "      <td>10.0000</td>\n",
       "      <td>[4.266904085261754, 4.266904085261754, 4.26690...</td>\n",
       "    </tr>\n",
       "    <tr>\n",
       "      <th>Saq0_49</th>\n",
       "      <td>0.000489</td>\n",
       "      <td>0.000032</td>\n",
       "      <td>6.585303</td>\n",
       "      <td>1.000000e-07</td>\n",
       "      <td>inf</td>\n",
       "      <td>0.0001</td>\n",
       "      <td>[0.0004888930686689497, 0.0004888930686689497,...</td>\n",
       "    </tr>\n",
       "  </tbody>\n",
       "</table>\n",
       "</div>"
      ],
      "text/plain": [
       "          optimal       std  perc_std          pmin  pmax  initial  \\\n",
       "kaq0_49  4.266904  0.022040  0.516531          -inf   inf  10.0000   \n",
       "Saq0_49  0.000489  0.000032  6.585303  1.000000e-07   inf   0.0001   \n",
       "\n",
       "                                                    parray  \n",
       "kaq0_49  [4.266904085261754, 4.266904085261754, 4.26690...  \n",
       "Saq0_49  [0.0004888930686689497, 0.0004888930686689497,...  "
      ]
     },
     "metadata": {},
     "output_type": "display_data"
    },
    {
     "name": "stdout",
     "output_type": "stream",
     "text": [
      "RMSE: 0.0029486495125585883\n"
     ]
    }
   ],
   "source": [
    "display(cM.parameters)\n",
    "print(\"RMSE:\", cM.rmse())"
   ]
  },
  {
   "cell_type": "code",
   "execution_count": 14,
   "metadata": {},
   "outputs": [
    {
     "data": {
      "image/png": "[encoded data removed]",
      "text/plain": [
       "<Figure size 500x300 with 1 Axes>"
      ]
     },
     "metadata": {},
     "output_type": "display_data"
    }
   ],
   "source": [
    "hM = M_nlay.head(0, 0, t, layers=20)\n",
    "plt.semilogx(t, h / H0, \".\", label=\"obs\")\n",
    "plt.semilogx(t, hM[0] / H0, label=\"ttim\")\n",
    "plt.ylim([0, 1])\n",
    "plt.xlabel(\"time(d)\")\n",
    "plt.ylabel(\"h/H0\")\n",
    "plt.title(\"Model Results - more layers\")\n",
    "plt.legend()\n",
    "plt.grid()"
   ]
  },
  {
   "cell_type": "markdown",
   "metadata": {},
   "source": [
    "Parameters varied significantly, but the AIC value has dropped sharply."
   ]
  },
  {
   "cell_type": "markdown",
   "metadata": {},
   "source": [
    "## Step 9. Final Model calibration with well skin resistance"
   ]
  },
  {
   "cell_type": "markdown",
   "metadata": {},
   "source": [
    "Now we test if the skin resistance of the well has an impact on model calibration. For this, we add the ```res``` parameter in the calibration settings. We use the same multi-layer model."
   ]
  },
  {
   "cell_type": "code",
   "execution_count": 15,
   "metadata": {},
   "outputs": [
    {
     "name": "stdout",
     "output_type": "stream",
     "text": [
      "......................................................\n",
      "Fit succeeded.\n",
      "[[Fit Statistics]]\n",
      "    # fitting method   = leastsq\n",
      "    # function evals   = 51\n",
      "    # data points      = 61\n",
      "    # variables        = 3\n",
      "    chi-square         = 4.5344e-04\n",
      "    reduced chi-square = 7.8180e-06\n",
      "    Akaike info crit   = -714.380214\n",
      "    Bayesian info crit = -708.047593\n",
      "[[Variables]]\n",
      "    kaq0_49:  4.29724444 +/- 0.02121183 (0.49%) (init = 10)\n",
      "    Saq0_49:  4.0697e-04 +/- 3.5926e-05 (8.83%) (init = 0.0001)\n",
      "    res:      1.7366e-04 +/- 5.6676e-05 (32.64%) (init = 0.2)\n",
      "[[Correlations]] (unreported correlations are < 0.100)\n",
      "    C(kaq0_49, Saq0_49) = -0.7867\n",
      "    C(Saq0_49, res)     = -0.7405\n",
      "    C(kaq0_49, res)     = +0.5090\n"
     ]
    }
   ],
   "source": [
    "cR = Calibrate(M_nlay)\n",
    "cR.set_parameter(name=\"kaq0_49\", initial=10)\n",
    "cR.set_parameter(name=\"Saq0_49\", initial=1e-4, pmin=1e-7)\n",
    "cR.set_parameter_by_reference(name=\"res\", parameter=W_nlay.res, initial=0.2, pmin=0)\n",
    "cR.series(name=\"obs\", x=0, y=0, layer=18, t=t, h=h)\n",
    "cR.fit()"
   ]
  },
  {
   "cell_type": "code",
   "execution_count": 16,
   "metadata": {},
   "outputs": [
    {
     "data": {
      "text/html": [
       "<div>\n",
       "<style scoped>\n",
       "    .dataframe tbody tr th:only-of-type {\n",
       "        vertical-align: middle;\n",
       "    }\n",
       "\n",
       "    .dataframe tbody tr th {\n",
       "        vertical-align: top;\n",
       "    }\n",
       "\n",
       "    .dataframe thead th {\n",
       "        text-align: right;\n",
       "    }\n",
       "</style>\n",
       "<table border=\"1\" class=\"dataframe\">\n",
       "  <thead>\n",
       "    <tr style=\"text-align: right;\">\n",
       "      <th></th>\n",
       "      <th>optimal</th>\n",
       "      <th>std</th>\n",
       "      <th>perc_std</th>\n",
       "      <th>pmin</th>\n",
       "      <th>pmax</th>\n",
       "      <th>initial</th>\n",
       "      <th>parray</th>\n",
       "    </tr>\n",
       "  </thead>\n",
       "  <tbody>\n",
       "    <tr>\n",
       "      <th>kaq0_49</th>\n",
       "      <td>4.297244</td>\n",
       "      <td>0.021212</td>\n",
       "      <td>0.493615</td>\n",
       "      <td>-inf</td>\n",
       "      <td>inf</td>\n",
       "      <td>10.0000</td>\n",
       "      <td>[4.29724443731417, 4.29724443731417, 4.2972444...</td>\n",
       "    </tr>\n",
       "    <tr>\n",
       "      <th>Saq0_49</th>\n",
       "      <td>0.000407</td>\n",
       "      <td>0.000036</td>\n",
       "      <td>8.827521</td>\n",
       "      <td>1.000000e-07</td>\n",
       "      <td>inf</td>\n",
       "      <td>0.0001</td>\n",
       "      <td>[0.0004069728617378532, 0.0004069728617378532,...</td>\n",
       "    </tr>\n",
       "    <tr>\n",
       "      <th>res</th>\n",
       "      <td>0.000174</td>\n",
       "      <td>0.000057</td>\n",
       "      <td>32.635796</td>\n",
       "      <td>0.000000e+00</td>\n",
       "      <td>inf</td>\n",
       "      <td>0.2000</td>\n",
       "      <td>[0.00017366316132894077]</td>\n",
       "    </tr>\n",
       "  </tbody>\n",
       "</table>\n",
       "</div>"
      ],
      "text/plain": [
       "          optimal       std   perc_std          pmin  pmax  initial  \\\n",
       "kaq0_49  4.297244  0.021212   0.493615          -inf   inf  10.0000   \n",
       "Saq0_49  0.000407  0.000036   8.827521  1.000000e-07   inf   0.0001   \n",
       "res      0.000174  0.000057  32.635796  0.000000e+00   inf   0.2000   \n",
       "\n",
       "                                                    parray  \n",
       "kaq0_49  [4.29724443731417, 4.29724443731417, 4.2972444...  \n",
       "Saq0_49  [0.0004069728617378532, 0.0004069728617378532,...  \n",
       "res                               [0.00017366316132894077]  "
      ]
     },
     "metadata": {},
     "output_type": "display_data"
    },
    {
     "name": "stdout",
     "output_type": "stream",
     "text": [
      "RMSE: 0.0027264473523578754\n"
     ]
    }
   ],
   "source": [
    "display(cR.parameters)\n",
    "print(\"RMSE:\", cR.rmse())"
   ]
  },
  {
   "cell_type": "markdown",
   "metadata": {},
   "source": [
    "The RMSE has improved slightly, and AIC has also decreased, which means adding skin resistance improved the model. However, the improvement is minimal, as the ```res``` calibrated value is tiny. Therefore, one can justify a calibration without ```res```."
   ]
  },
  {
   "cell_type": "markdown",
   "metadata": {},
   "source": [
    "## Step 10. Analysis and comparison of simulated values\n",
    "\n",
    "We now compare the values in TTim and add the results of the AQTESOLV modelling reported by Yang (2020)."
   ]
  },
  {
   "cell_type": "code",
   "execution_count": 17,
   "metadata": {},
   "outputs": [
    {
     "data": {
      "text/html": [
       "<style type=\"text/css\">\n",
       "</style>\n",
       "<table id=\"T_d9647\">\n",
       "  <caption>Comparison of parameter values and error under different models</caption>\n",
       "  <thead>\n",
       "    <tr>\n",
       "      <th class=\"blank level0\" >&nbsp;</th>\n",
       "      <th id=\"T_d9647_level0_col0\" class=\"col_heading level0 col0\" >k [m/d]</th>\n",
       "      <th id=\"T_d9647_level0_col1\" class=\"col_heading level0 col1\" >Ss [1/m]</th>\n",
       "      <th id=\"T_d9647_level0_col2\" class=\"col_heading level0 col2\" >res [1/d]</th>\n",
       "      <th id=\"T_d9647_level0_col3\" class=\"col_heading level0 col3\" >RMSE</th>\n",
       "    </tr>\n",
       "  </thead>\n",
       "  <tbody>\n",
       "    <tr>\n",
       "      <th id=\"T_d9647_level0_row0\" class=\"row_heading level0 row0\" >AQTESOLV</th>\n",
       "      <td id=\"T_d9647_row0_col0\" class=\"data row0 col0\" >4.034000</td>\n",
       "      <td id=\"T_d9647_row0_col1\" class=\"data row0 col1\" >0.000383</td>\n",
       "      <td id=\"T_d9647_row0_col2\" class=\"data row0 col2\" >nan</td>\n",
       "      <td id=\"T_d9647_row0_col3\" class=\"data row0 col3\" >0.002976</td>\n",
       "    </tr>\n",
       "    <tr>\n",
       "      <th id=\"T_d9647_level0_row1\" class=\"row_heading level0 row1\" >ttim-three</th>\n",
       "      <td id=\"T_d9647_row1_col0\" class=\"data row1 col0\" >6.049085</td>\n",
       "      <td id=\"T_d9647_row1_col1\" class=\"data row1 col1\" >0.000213</td>\n",
       "      <td id=\"T_d9647_row1_col2\" class=\"data row1 col2\" >nan</td>\n",
       "      <td id=\"T_d9647_row1_col3\" class=\"data row1 col3\" >0.002856</td>\n",
       "    </tr>\n",
       "    <tr>\n",
       "      <th id=\"T_d9647_level0_row2\" class=\"row_heading level0 row2\" >ttim-multi</th>\n",
       "      <td id=\"T_d9647_row2_col0\" class=\"data row2 col0\" >4.266904</td>\n",
       "      <td id=\"T_d9647_row2_col1\" class=\"data row2 col1\" >0.000489</td>\n",
       "      <td id=\"T_d9647_row2_col2\" class=\"data row2 col2\" >nan</td>\n",
       "      <td id=\"T_d9647_row2_col3\" class=\"data row2 col3\" >0.002962</td>\n",
       "    </tr>\n",
       "    <tr>\n",
       "      <th id=\"T_d9647_level0_row3\" class=\"row_heading level0 row3\" >ttim-res</th>\n",
       "      <td id=\"T_d9647_row3_col0\" class=\"data row3 col0\" >4.297244</td>\n",
       "      <td id=\"T_d9647_row3_col1\" class=\"data row3 col1\" >0.000407</td>\n",
       "      <td id=\"T_d9647_row3_col2\" class=\"data row3 col2\" >0.000174</td>\n",
       "      <td id=\"T_d9647_row3_col3\" class=\"data row3 col3\" >0.002726</td>\n",
       "    </tr>\n",
       "  </tbody>\n",
       "</table>\n"
      ],
      "text/plain": [
       "<pandas.io.formats.style.Styler at 0x16a78fed0>"
      ]
     },
     "execution_count": 17,
     "metadata": {},
     "output_type": "execute_result"
    }
   ],
   "source": [
    "ta = pd.DataFrame(\n",
    "    columns=[\"k [m/d]\", \"Ss [1/m]\", \"res [1/d]\"],\n",
    "    index=[\"AQTESOLV\", \"ttim-three\", \"ttim-multi\", \"ttim-res\"],\n",
    ")\n",
    "ta.loc[\"ttim-three\"] = np.concatenate((ca.parameters[\"optimal\"].values, [np.nan]))\n",
    "ta.loc[\"ttim-multi\"] = np.concatenate((cM.parameters[\"optimal\"].values, [np.nan]))\n",
    "ta.loc[\"ttim-res\"] = cR.parameters[\"optimal\"].values\n",
    "ta.loc[\"AQTESOLV\"] = [4.034, 3.834e-04] + [np.nan]\n",
    "ta[\"RMSE\"] = [0.002976, ca.rmse(), cM.rmse(), cR.rmse()]\n",
    "ta.style.set_caption(\"Comparison of parameter values and error under different models\")"
   ]
  },
  {
   "cell_type": "markdown",
   "metadata": {},
   "source": [
    "All models had similar RMSE performance. However, there was a significant variation in parameter values between the three-layer model and the multi-layered model. Multi-layered model parameters were closer to AQTESOLV values. The best RMSE model was the last model, the multi-layered with skin resistance."
   ]
  },
  {
   "cell_type": "markdown",
   "metadata": {
    "editable": true,
    "slideshow": {
     "slide_type": ""
    },
    "tags": []
   },
   "source": [
    "## References\n",
    "* Butler, J.J., Jr., 1998. The Design, Performance, and Analysis of Slug Tests, Lewis Publishers, Boca Raton, Florida, 252p.\n",
    "* Hyder, Z., Butler Jr, J.J., McElwee, C.D., Liu, W., 1994. Slug tests in partially penetrating wells. Water Resources Research 30, 2945–2957.\n",
    "* Duffield, G.M., 2007. AQTESOLV for Windows Version 4.5 User's Guide, HydroSOLVE, Inc., Reston, VA.\n",
    "* Yang, Xinzhu (2020) Application and comparison of different methodsfor aquifer test analysis using TTim. Master Thesis, Delft University of Technology (TUDelft), Delft, The Netherlands."
   ]
  }
 ],
 "metadata": {
  "kernelspec": {
   "display_name": "Python 3 (ipykernel)",
   "language": "python",
   "name": "python3"
  },
  "language_info": {
   "codemirror_mode": {
    "name": "ipython",
    "version": 3
   },
   "file_extension": ".py",
   "mimetype": "text/x-python",
   "name": "python",
   "nbconvert_exporter": "python",
   "pygments_lexer": "ipython3",
   "version": "3.11.4"
  }
 },
 "nbformat": 4,
 "nbformat_minor": 4
}
