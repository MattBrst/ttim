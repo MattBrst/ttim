{
 "cells": [
  {
   "cell_type": "markdown",
   "id": "edd8871e-c5c8-41c0-b21a-8cebc129b30e",
   "metadata": {},
   "source": [
    "### HowTo: Make an xsection model with `ttim`\n",
    " \n",
    "This HowTo describes how to make an xsection (cross-section) model with `ttim`.\n",
    "\n",
    "We start by importing the required packages:"
   ]
  },
  {
   "cell_type": "code",
   "execution_count": 1,
   "id": "64c3b56a-ec12-4da3-ad88-64ae7fd4193d",
   "metadata": {},
   "outputs": [],
   "source": [
    "import matplotlib.pyplot as plt\n",
    "import numpy as np\n",
    "\n",
    "import ttim as ttim\n",
    "\n",
    "#\n",
    "plt.rcParams[\"figure.figsize\"] = (4, 3)  # set default figure size\n",
    "plt.rcParams[\"font.size\"] = 8  # set default font size"
   ]
  },
  {
   "cell_type": "markdown",
   "id": "c8abce62-4971-441d-b45f-5a3dfb9486fa",
   "metadata": {},
   "source": [
    "We will create an xsection model for a two-aquifer system with a river with a leaky river bottom (see Figure). "
   ]
  },
  {
   "cell_type": "code",
   "execution_count": 2,
   "id": "08830565-2f98-44fc-af21-1e5fcd64eb59",
   "metadata": {
    "jupyter": {
     "source_hidden": true
    }
   },
   "outputs": [],
   "source": [
    "import numpy as np\n",
    "import matplotlib.pyplot as plt\n",
    "import matplotlib.colors as mcolors\n",
    "import matplotlib.patches as mpatches\n",
    "\n",
    "figdef1 = (5, 2)\n",
    "figdef1plus = (5, 3)\n",
    "figdef1new = (4, 3.2)\n",
    "figax1 = [0.15, 0.2, 0.7, 0.6]\n",
    "# wide figure\n",
    "figdef2 = (8, 3.2)\n",
    "figax2 = [0.15, 0.2, 0.7, 0.6]  # used for single graph\n",
    "\n",
    "# VP 20210712: Added these for interface flow\n",
    "C1light = '#2b7aa1'\n",
    "C1dark = '#173e52' \n",
    "\n",
    "def gradient_fill(x, y, fill_color='C0', ax=None, **kwargs):\n",
    "    if ax is None:\n",
    "        ax = plt.gca()\n",
    "\n",
    "    z = np.empty((100, 1, 4), dtype=float)\n",
    "    rgb = mcolors.colorConverter.to_rgb(fill_color)\n",
    "    z[:,:,:3] = rgb\n",
    "    z[:,:,-1] = np.linspace(0.1, 0.5, 100)[:,None]\n",
    "\n",
    "    xmin, xmax, ymin, ymax = x[0], x[1], y[0], y[1]\n",
    "    im = ax.imshow(z, aspect='auto', extent=[xmin, xmax, ymin, ymax],\n",
    "                   origin='lower', )#zorder=zorder)\n",
    "\n",
    "def fancyarrow(ax, xytail, xyhead, scale=100):\n",
    "    arrow = mpatches.FancyArrowPatch(xytail, xyhead,\n",
    "                                 mutation_scale=scale)\n",
    "    ax.add_patch(arrow)\n",
    "\n",
    "def arrow(xystart, xyend, text=\"\", arrow=\"<-\", color='k', **kwds):\n",
    "    plt.annotate(text,\n",
    "                 xy=xystart, \n",
    "                 xytext=xyend, \n",
    "                 arrowprops=dict(arrowstyle=arrow, shrinkA=0, shrinkB=0, color=color),\n",
    "                 color=color,\n",
    "                 **kwds)"
   ]
  },
  {
   "cell_type": "code",
   "execution_count": 3,
   "id": "0278d562-ffdf-4495-a842-1eb9f9815329",
   "metadata": {
    "jupyter": {
     "source_hidden": true
    }
   },
   "outputs": [],
   "source": [
    "def solution12():\n",
    "    plt.figure(figsize=figdef1)\n",
    "    ax = plt.axes(figax1)\n",
    "    plt.fill([-0.1, 0.3, 0.3, -0.1], [0.8, 0.8, 1.2, 1.2], color='grey', fill=False, hatch='//')\n",
    "    plt.fill([0.3, 0.7, 0.7, 0.3], [0.8, 0.8, 1.0, 1.0], color='grey', fill=False, hatch='//')\n",
    "    plt.fill([0.7, 1.1, 1.1, 0.7], [0.8, 0.8, 1.2, 1.2], color='grey', fill=False, hatch='//')\n",
    "\n",
    "\n",
    "    plt.fill([-0.1, 1.1, 1.1, -0.1], [0, 0, -.2, -.2], color='grey', fill=False, hatch='///')\n",
    "    #plt.fill([-0.1, 0.3, 0.3, -0.1], [0.8, 0.8, 1, 1], color='grey', fill=False, hatch='xxx')\n",
    "    #plt.fill([0.7, 1.1, 1.1, 0.7], [0.8, 0.8, 1, 1], color='grey', fill=False, hatch='xxx')\n",
    "    plt.fill([-0.1, 1.1, 1.1, -0.1], [-1, -1, -0.8, -0.8], color='grey', fill=False, hatch='xxx')\n",
    "    plt.plot([-0.1,  0.3], [1.1, 1.1], 'C0')\n",
    "    plt.plot([0.3,  0.7], [1.4, 1.4], 'C0')\n",
    "    plt.plot([0.7,  1.1], [1.1, 1.1], 'C0')\n",
    "    #gradient_fill([-0.1, 0.3], [1, 1.2])\n",
    "    gradient_fill([0.3, 0.7], [1, 1.4])\n",
    "    #gradient_fill([0.7, 1.1], [1, 1.2])\n",
    "    plt.plot([0.3, 0.3], [0.8, 1.5], 'k')\n",
    "    plt.plot([0.7, 0.7], [0.8, 1.5], 'k')\n",
    "    plt.text(0.1, 1.35, '$h_0$', ha='center')\n",
    "    plt.text(0.5, 1.55, '$h_r(t)$', ha='center')\n",
    "    plt.text(0.9, 1.35, '$h_0$', ha='center')\n",
    "    plt.plot([0.5, 0.5], [-1.3, -1.1], 'k')\n",
    "    arrow((0.5, -1.2), (0.7, -1.2), \"$x$\", va='center')\n",
    "    plt.text(-0.1, 0.4, 'left', va='center')\n",
    "    plt.text(0.5, 0.25, 'river', va='center', ha='center')\n",
    "    plt.text(1.1, 0.4, 'right', ha='right', va='center')\n",
    "    #fancyarrow(ax, (0.9, 0.4), (1.03, 0.4), scale=20)\n",
    "    arrow((0.3, 0.45), (0.7, 0.45), arrow=\"<->\")\n",
    "    plt.text(0.5, 0.55, '$2L$', ha='center')\n",
    "    plt.ylim(-1.3, 1.5)\n",
    "    plt.axis('off');\n",
    "\n",
    "#solution12()\n",
    "#plt.savefig('riverxsection.png')"
   ]
  },
  {
   "cell_type": "markdown",
   "id": "89e1e789-f5a6-4dc8-b3d9-a6493a5e402c",
   "metadata": {},
   "source": [
    "<figure>\n",
    "  <img src=\"riverxsection.svg\" style=\"width:100%\">\n",
    "</figure>"
   ]
  },
  {
   "cell_type": "markdown",
   "id": "d9c645d3-a790-42ea-be9b-509ac94aec48",
   "metadata": {},
   "source": [
    "| Parameter            | left/right | river |\n",
    "| :------------: | :------: | ----: |\n",
    "| $c_0$ (d)      |   500    | 200 |\n",
    "| $k_0$ (m/d)    |   10     | 10 |\n",
    "| $S_{s0}$ (m$^{-1}$)    |   1e-4     | 1e-4 |\n",
    "| $c_1$ (d)      |  1000    | 1000 |\n",
    "| $k_1$ (m/d)    |   20     | 20|\n",
    "| $S_{s1}$ (m$^{-1}$)    |   1e-4     | 1e-4 |\n"
   ]
  },
  {
   "cell_type": "code",
   "execution_count": 4,
   "id": "675937ac-6786-4ffb-9c7d-bba705009055",
   "metadata": {},
   "outputs": [],
   "source": [
    "zside = [2, 0, -10, -12, -22]\n",
    "zriver = [1, 0, -10, -12, -22]\n",
    "cside0 = 500 # d\n",
    "criver0 = 200 # d\n",
    "k0 = 10 # m/d\n",
    "Ss0 = 1e-4 # m^(-1)\n",
    "c1 = 1000 # d\n",
    "k1 = 20 # m/d\n",
    "Ss1 = 1e-4 # m^(-1)\n",
    "L = 50 # m"
   ]
  },
  {
   "cell_type": "code",
   "execution_count": 5,
   "id": "88304f3d-5614-474f-a7b5-98cf6600393b",
   "metadata": {},
   "outputs": [
    {
     "name": "stdout",
     "output_type": "stream",
     "text": [
      "self.neq  8\n",
      "solution complete\n"
     ]
    }
   ],
   "source": [
    "ml = ttim.ModelXsection(naq=2, tmin=1e-3, tmax=1e2)\n",
    "\n",
    "left = ttim.XsectionMaq(\n",
    "    model=ml, x1=-np.inf, x2=-L,\n",
    "    kaq=[k0, k1], z=zside, Saq=[Ss0, Ss1],\n",
    "    c=[cside0, c1], topboundary=\"semi\",\n",
    "    name=\"left\",\n",
    ")\n",
    "\n",
    "river = ttim.XsectionMaq(\n",
    "    model=ml, x1=-L, x2=L,\n",
    "    kaq=[k0, k1], z=zriver, Saq=[Ss0, Ss1],\n",
    "    c=[criver0, c1], topboundary=\"semi\",\n",
    "    tsandhstar=[(0, 1)],\n",
    "    name=\"river\",\n",
    ")\n",
    "\n",
    "right = ttim.XsectionMaq(\n",
    "    model=ml, x1=L, x2=np.inf,\n",
    "    kaq=[k0, k1], z=zside, Saq=[Ss0, Ss1],\n",
    "    c=[cside0, c1], topboundary=\"semi\",\n",
    "    name=\"right\",\n",
    ")\n",
    "\n",
    "ml.solve()"
   ]
  },
  {
   "cell_type": "code",
   "execution_count": 6,
   "id": "bca9d78a-d7cb-45e2-8c1f-782f16c84c41",
   "metadata": {},
   "outputs": [],
   "source": [
    "ng = 100\n",
    "nt = 100\n",
    "x = np.linspace(-200, 200, ng)\n",
    "y = np.zeros(ng)\n",
    "t = np.logspace(-2, 1, nt)\n",
    "h = ml.headalongline(x, y, t)"
   ]
  },
  {
   "cell_type": "code",
   "execution_count": 7,
   "id": "062663d5-7b27-4a2e-96f6-81b5e78673f8",
   "metadata": {},
   "outputs": [
    {
     "data": {
      "image/png": "[encoded data removed]",
      "text/plain": [
       "<Figure size 800x400 with 1 Axes>"
      ]
     },
     "metadata": {},
     "output_type": "display_data"
    }
   ],
   "source": [
    "plt.figure(figsize=(8, 4))\n",
    "for i, itime in enumerate(range(19, nt, 20)):\n",
    "    plt.plot(x, h[0, itime], 'C' + str(i), label=f'{t[itime]:.3f}')\n",
    "    plt.plot(x, h[1, itime], 'C' + str(i), ls='--')\n",
    "plt.legend(title='time (d)')\n",
    "plt.axhline(0, color='k', lw=1)\n",
    "plt.axvspan(-L, L, color=[.9, .9, .9]);"
   ]
  },
  {
   "cell_type": "code",
   "execution_count": 8,
   "id": "d2fe572d-b7c4-43f0-8a71-7a369cd31bb8",
   "metadata": {},
   "outputs": [
    {
     "data": {
      "image/png": "[encoded data removed]",
      "text/plain": [
       "<Figure size 400x300 with 1 Axes>"
      ]
     },
     "metadata": {},
     "output_type": "display_data"
    }
   ],
   "source": [
    "t = np.logspace(-3, 1, nt)\n",
    "h = ml.head(x=50, y=0, t=t)\n",
    "plt.semilogx(t, h[0])\n",
    "plt.semilogx(t, h[1])\n",
    "plt.xlabel('time (d)')\n",
    "plt.ylabel('head (m)')\n",
    "plt.grid()"
   ]
  },
  {
   "cell_type": "markdown",
   "id": "e4837450-b195-4d95-bb1e-cd87a8984f9f",
   "metadata": {},
   "source": [
    "### Sythetic example"
   ]
  },
  {
   "cell_type": "code",
   "execution_count": 9,
   "id": "bdc9457b-f263-4edc-a7a5-c9a08eb43c59",
   "metadata": {},
   "outputs": [
    {
     "name": "stdout",
     "output_type": "stream",
     "text": [
      "self.neq  8\n",
      "solution complete\n"
     ]
    }
   ],
   "source": [
    "ts = np.arange(0, 20)\n",
    "np.random.seed(22)\n",
    "hstar = np.random.randint(low=0, high=10, size=20) * 0.1\n",
    "tsandh = list(zip(ts, hstar))\n",
    "\n",
    "ml = ttim.ModelXsection(naq=2, tmin=1e-3, tmax=1e2)\n",
    "\n",
    "left = ttim.XsectionMaq(\n",
    "    model=ml, x1=-np.inf, x2=-L,\n",
    "    kaq=[k0, k1], z=zside, Saq=[Ss0, Ss1],\n",
    "    c=[cside0, c1], topboundary=\"semi\",\n",
    "    name=\"left\",\n",
    ")\n",
    "\n",
    "river = ttim.XsectionMaq(\n",
    "    model=ml, x1=-L, x2=L,\n",
    "    kaq=[k0, k1], z=zriver, Saq=[Ss0, Ss1],\n",
    "    c=[criver0, c1], topboundary=\"semi\",\n",
    "    tsandhstar=tsandh,\n",
    "    name=\"river\",\n",
    ")\n",
    "\n",
    "right = ttim.XsectionMaq(\n",
    "    model=ml, x1=L, x2=np.inf,\n",
    "    kaq=[k0, k1], z=zside, Saq=[Ss0, Ss1],\n",
    "    c=[cside0, c1], topboundary=\"semi\",\n",
    "    name=\"right\",\n",
    ")\n",
    "\n",
    "ml.solve()\n",
    "\n",
    "tsyn = np.linspace(0.1, 10, 101)\n",
    "xsyn = 50\n",
    "hexact = ml.head(xsyn, 0, tsyn)\n",
    "hsyn = hexact[0] + 0.01 * np.random.randn(len(tsyn))"
   ]
  },
  {
   "cell_type": "code",
   "execution_count": 10,
   "id": "35b52c02-b994-40f7-944c-57a1a49c892f",
   "metadata": {},
   "outputs": [],
   "source": [
    "crivguess = 100.0\n",
    "csideguess = 100.0"
   ]
  },
  {
   "cell_type": "code",
   "execution_count": 11,
   "id": "79930651-2658-4fe7-97bb-000d8ff6e205",
   "metadata": {},
   "outputs": [],
   "source": [
    "k0 = 10\n",
    "ml = ttim.ModelXsection(naq=2, tmin=1e-3, tmax=1e2)\n",
    "\n",
    "left = ttim.XsectionMaq(\n",
    "    model=ml, x1=-np.inf, x2=-L,\n",
    "    kaq=[k0, k1], z=zside, Saq=[Ss0, Ss1],\n",
    "    c=[csideguess, c1], topboundary=\"semi\",\n",
    "    name=\"left\",\n",
    ")\n",
    "\n",
    "river = ttim.XsectionMaq(\n",
    "    model=ml, x1=-L, x2=L,\n",
    "    kaq=[k0, k1], z=zriver, Saq=[Ss0, Ss1],\n",
    "    c=[crivguess, c1], topboundary=\"semi\",\n",
    "    tsandhstar=tsandh,\n",
    "    name=\"river\",\n",
    ")\n",
    "\n",
    "right = ttim.XsectionMaq(\n",
    "    model=ml, x1=L, x2=np.inf,\n",
    "    kaq=[k0, k1], z=zside, Saq=[Ss0, Ss1],\n",
    "    c=[csideguess, c1], topboundary=\"semi\",\n",
    "    name=\"right\",\n",
    ")"
   ]
  },
  {
   "cell_type": "code",
   "execution_count": 12,
   "id": "42fe85a8-528a-40e8-9d0d-d92726df22d9",
   "metadata": {},
   "outputs": [
    {
     "name": "stdout",
     "output_type": "stream",
     "text": [
      "from_lay, to_lay:  0 0\n",
      "setting iaq.c right: XsectionMaq [50, inf]\n"
     ]
    }
   ],
   "source": [
    "cal = ttim.Calibrate(ml)\n",
    "cal.series(\n",
    "    name=\"synthetic\",\n",
    "    x=xsyn,\n",
    "    y=0,\n",
    "    layer=0,\n",
    "    t=tsyn,\n",
    "    h=hsyn,\n",
    ")\n",
    "\n",
    "cal.set_parameter(\n",
    "    \"c\",\n",
    "    layers=[0],\n",
    "    initial=csideguess,\n",
    "    pmin=1.0,\n",
    "    pmax=1000.0,\n",
    "    inhoms=(left, right),\n",
    ")\n",
    "\n",
    "# cal.set_parameter(\n",
    "#     \"c\",\n",
    "#     layers=[0],\n",
    "#     initial=crivguess,\n",
    "#     pmin=1.0,\n",
    "#     pmax=1000.0,\n",
    "#     inhoms=(river),\n",
    "# )\n",
    "\n",
    "# cal.set_parameter(\n",
    "#     name=\"kaq\",\n",
    "#     layers=[0],\n",
    "#     initial=12,\n",
    "#     pmin=1.0,\n",
    "#     pmax=1000.0,\n",
    "#     inhoms=(river),\n",
    "# )\n",
    "\n",
    "#cal.fit()"
   ]
  },
  {
   "cell_type": "code",
   "execution_count": 27,
   "id": "c4fd5b89-b1f7-4cb1-9161-d57026c4078b",
   "metadata": {},
   "outputs": [
    {
     "data": {
      "text/plain": [
       "(array([  77., 1000.]), array([  77., 1000.]))"
      ]
     },
     "execution_count": 27,
     "metadata": {},
     "output_type": "execute_result"
    }
   ],
   "source": [
    "p = np.array([77])\n",
    "left.c[0:1] = p[0:1]\n",
    "right.c[0:1] = p[0:1]\n",
    "left.c, right.c"
   ]
  },
  {
   "cell_type": "code",
   "execution_count": 28,
   "id": "1d2bfeb0-8636-4110-b1e1-2a07ad31390b",
   "metadata": {},
   "outputs": [
    {
     "data": {
      "text/plain": [
       "(array([  77., 1000.]), array([  77., 1000.]))"
      ]
     },
     "execution_count": 28,
     "metadata": {},
     "output_type": "execute_result"
    }
   ],
   "source": [
    "p[0:1] = 88\n",
    "left.c, right.c"
   ]
  },
  {
   "cell_type": "code",
   "execution_count": 47,
   "id": "453c20ee-7d3b-4dc2-a046-79c331f6345d",
   "metadata": {},
   "outputs": [
    {
     "data": {
      "text/plain": [
       "(array([1]), array([0, 1, 2]))"
      ]
     },
     "execution_count": 47,
     "metadata": {},
     "output_type": "execute_result"
    }
   ],
   "source": [
    "a = np.array([100,])\n",
    "b = np.arange(3)\n",
    "a[0] = b[1]\n",
    "a, b"
   ]
  },
  {
   "cell_type": "code",
   "execution_count": 49,
   "id": "87afcae2-32a5-4407-a46f-c7c0ff205085",
   "metadata": {},
   "outputs": [
    {
     "data": {
      "text/plain": [
       "(array([1]), array([ 0, 99, 99]))"
      ]
     },
     "execution_count": 49,
     "metadata": {},
     "output_type": "execute_result"
    }
   ],
   "source": [
    "b[1:2] = 99\n",
    "a, b"
   ]
  },
  {
   "cell_type": "code",
   "execution_count": 20,
   "id": "31cb62c9-9468-40f7-ab24-98174674f1ed",
   "metadata": {},
   "outputs": [
    {
     "data": {
      "text/plain": [
       "(array([  99., 1000.]), array([  77., 1000.]))"
      ]
     },
     "execution_count": 20,
     "metadata": {},
     "output_type": "execute_result"
    }
   ],
   "source": [
    "left.c[0] = 99\n",
    "left.c, right.c"
   ]
  },
  {
   "cell_type": "code",
   "execution_count": 61,
   "id": "6e62078a-083e-46f1-85b0-83c0a2cac328",
   "metadata": {},
   "outputs": [
    {
     "data": {
      "text/plain": [
       "(array([0., 1., 2., 3., 4.]), array([1., 2.]))"
      ]
     },
     "execution_count": 61,
     "metadata": {},
     "output_type": "execute_result"
    }
   ],
   "source": [
    "a = np.arange(5.)\n",
    "b = a[1:3]\n",
    "a, b"
   ]
  },
  {
   "cell_type": "code",
   "execution_count": 62,
   "id": "825a05a8-b823-4ea1-8b0c-4af4339aef2d",
   "metadata": {},
   "outputs": [
    {
     "data": {
      "text/plain": [
       "(array([0., 8., 8., 3., 4.]), array([8., 8.]))"
      ]
     },
     "execution_count": 62,
     "metadata": {},
     "output_type": "execute_result"
    }
   ],
   "source": [
    "b[:] = 8\n",
    "a, b"
   ]
  },
  {
   "cell_type": "code",
   "execution_count": 63,
   "id": "6e2cc991-e20b-4ff7-8f1b-c915d67f78f8",
   "metadata": {},
   "outputs": [
    {
     "data": {
      "text/plain": [
       "(array([0., 8., 8., 3., 4.]), array([8., 8.]), array([0., 8., 8., 3., 4.]))"
      ]
     },
     "execution_count": 63,
     "metadata": {},
     "output_type": "execute_result"
    }
   ],
   "source": [
    "c = np.arange(5.)\n",
    "c[1:3] = a[1:3]\n",
    "a, b, c"
   ]
  },
  {
   "cell_type": "code",
   "execution_count": 64,
   "id": "9da6b7df-60aa-4de8-a601-57a383e388a5",
   "metadata": {},
   "outputs": [
    {
     "data": {
      "text/plain": [
       "(array([ 0., 99., 99.,  3.,  4.]),\n",
       " array([99., 99.]),\n",
       " array([0., 8., 8., 3., 4.]))"
      ]
     },
     "execution_count": 64,
     "metadata": {},
     "output_type": "execute_result"
    }
   ],
   "source": [
    "b[:] = 99\n",
    "a, b, c"
   ]
  },
  {
   "cell_type": "code",
   "execution_count": null,
   "id": "5f2fe97d-9be4-45ee-840d-ed7cd1c39876",
   "metadata": {},
   "outputs": [],
   "source": [
    "plt.plot(tsyn, hsyn, 'k.')\n",
    "plt.plot(tsyn, hmodel[0])\n",
    "plt.plot(tsyn, hexact[0], '--')"
   ]
  },
  {
   "cell_type": "code",
   "execution_count": null,
   "id": "70976cb8-475e-48a2-bde6-a3e2f2e1c913",
   "metadata": {},
   "outputs": [],
   "source": [
    "river.c, left.c, right.c"
   ]
  },
  {
   "cell_type": "code",
   "execution_count": null,
   "id": "78eef047-6737-4708-aa3c-5425d931351f",
   "metadata": {},
   "outputs": [],
   "source": [
    "criver0, cside0"
   ]
  },
  {
   "cell_type": "code",
   "execution_count": null,
   "id": "10d9dcc9-a07c-43c9-b01f-3c2ba47322d5",
   "metadata": {},
   "outputs": [],
   "source": [
    "cal.set_parameter?"
   ]
  }
 ],
 "metadata": {
  "kernelspec": {
   "display_name": "Python 3 (ipykernel)",
   "language": "python",
   "name": "python3"
  },
  "language_info": {
   "codemirror_mode": {
    "name": "ipython",
    "version": 3
   },
   "file_extension": ".py",
   "mimetype": "text/x-python",
   "name": "python",
   "nbconvert_exporter": "python",
   "pygments_lexer": "ipython3",
   "version": "3.11.4"
  }
 },
 "nbformat": 4,
 "nbformat_minor": 5
}
